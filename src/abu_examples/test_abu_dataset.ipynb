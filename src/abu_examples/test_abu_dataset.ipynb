{
 "cells": [
  {
   "cell_type": "code",
   "execution_count": 1,
   "metadata": {},
   "outputs": [],
   "source": [
    "# 基础库导入\n",
    "\n",
    "from __future__ import print_function\n",
    "from __future__ import division\n",
    "\n",
    "import warnings\n",
    "warnings.filterwarnings('ignore')\n",
    "warnings.simplefilter('ignore')\n",
    "\n",
    "import numpy as np\n",
    "import pandas as pd\n",
    "import matplotlib.pyplot as plt\n",
    "%matplotlib inline\n",
    "\n",
    "import os\n",
    "import sys\n",
    "# 使用insert 0即只使用github，避免交叉使用了pip安装的abupy，导致的版本不一致问题\n",
    "sys.path.insert(0, os.path.abspath('../'))\n",
    "import abupy"
   ]
  },
  {
   "cell_type": "code",
   "execution_count": 2,
   "metadata": {},
   "outputs": [
    {
     "name": "stderr",
     "output_type": "stream",
     "text": [
      "disable example env\n"
     ]
    }
   ],
   "source": [
    "# 使用沙盒数据，目的是和书中一样的数据环境\n",
    "# abupy.env.enable_example_env_ipython()\n",
    "\n",
    "abupy.env.disable_example_env_ipython()"
   ]
  },
  {
   "cell_type": "code",
   "execution_count": 3,
   "metadata": {},
   "outputs": [],
   "source": [
    "from abupy import abu, ml, nd, tl, pd_resample, AbuML, AbuMLPd, AbuMetricsBase \n",
    "from abupy import ABuSymbolPd, ABuScalerUtil, get_price, ABuMarketDrawing, ABuKLUtil\n",
    "\n",
    "# btc是比特币symbol代号\n",
    "btc = ABuSymbolPd.make_kl_df('sh000001', start='2000-01-01', end='2018-10-12')"
   ]
  },
  {
   "cell_type": "code",
   "execution_count": 4,
   "metadata": {},
   "outputs": [
    {
     "data": {
      "text/html": [
       "<div>\n",
       "<style scoped>\n",
       "    .dataframe tbody tr th:only-of-type {\n",
       "        vertical-align: middle;\n",
       "    }\n",
       "\n",
       "    .dataframe tbody tr th {\n",
       "        vertical-align: top;\n",
       "    }\n",
       "\n",
       "    .dataframe thead th {\n",
       "        text-align: right;\n",
       "    }\n",
       "</style>\n",
       "<table border=\"1\" class=\"dataframe\">\n",
       "  <thead>\n",
       "    <tr style=\"text-align: right;\">\n",
       "      <th></th>\n",
       "      <th>close</th>\n",
       "      <th>high</th>\n",
       "      <th>low</th>\n",
       "      <th>p_change</th>\n",
       "      <th>open</th>\n",
       "      <th>pre_close</th>\n",
       "      <th>volume</th>\n",
       "      <th>date</th>\n",
       "      <th>date_week</th>\n",
       "      <th>key</th>\n",
       "      <th>atr21</th>\n",
       "      <th>atr14</th>\n",
       "    </tr>\n",
       "  </thead>\n",
       "  <tbody>\n",
       "    <tr>\n",
       "      <th>2000-01-04</th>\n",
       "      <td>1406.37</td>\n",
       "      <td>1407.52</td>\n",
       "      <td>1361.21</td>\n",
       "      <td>2.912</td>\n",
       "      <td>1368.69</td>\n",
       "      <td>1366.58</td>\n",
       "      <td>0</td>\n",
       "      <td>20000104</td>\n",
       "      <td>1</td>\n",
       "      <td>0</td>\n",
       "      <td>46.3100</td>\n",
       "      <td>46.3100</td>\n",
       "    </tr>\n",
       "    <tr>\n",
       "      <th>2000-01-05</th>\n",
       "      <td>1409.68</td>\n",
       "      <td>1433.78</td>\n",
       "      <td>1398.32</td>\n",
       "      <td>0.131</td>\n",
       "      <td>1407.83</td>\n",
       "      <td>1407.83</td>\n",
       "      <td>0</td>\n",
       "      <td>20000105</td>\n",
       "      <td>2</td>\n",
       "      <td>1</td>\n",
       "      <td>57.2524</td>\n",
       "      <td>57.5011</td>\n",
       "    </tr>\n",
       "    <tr>\n",
       "      <th>2000-01-06</th>\n",
       "      <td>1463.94</td>\n",
       "      <td>1463.95</td>\n",
       "      <td>1400.25</td>\n",
       "      <td>3.849</td>\n",
       "      <td>1406.04</td>\n",
       "      <td>1409.68</td>\n",
       "      <td>0</td>\n",
       "      <td>20000106</td>\n",
       "      <td>3</td>\n",
       "      <td>2</td>\n",
       "      <td>59.6094</td>\n",
       "      <td>59.8691</td>\n",
       "    </tr>\n",
       "    <tr>\n",
       "      <th>2000-01-07</th>\n",
       "      <td>1516.60</td>\n",
       "      <td>1522.82</td>\n",
       "      <td>1477.15</td>\n",
       "      <td>3.597</td>\n",
       "      <td>1477.15</td>\n",
       "      <td>1463.94</td>\n",
       "      <td>0</td>\n",
       "      <td>20000107</td>\n",
       "      <td>4</td>\n",
       "      <td>3</td>\n",
       "      <td>74.9615</td>\n",
       "      <td>76.1662</td>\n",
       "    </tr>\n",
       "    <tr>\n",
       "      <th>2000-01-10</th>\n",
       "      <td>1545.11</td>\n",
       "      <td>1546.72</td>\n",
       "      <td>1506.40</td>\n",
       "      <td>1.880</td>\n",
       "      <td>1531.71</td>\n",
       "      <td>1516.60</td>\n",
       "      <td>0</td>\n",
       "      <td>20000110</td>\n",
       "      <td>0</td>\n",
       "      <td>4</td>\n",
       "      <td>76.8365</td>\n",
       "      <td>77.8917</td>\n",
       "    </tr>\n",
       "  </tbody>\n",
       "</table>\n",
       "</div>"
      ],
      "text/plain": [
       "              close     high      low  p_change     open  pre_close  volume  \\\n",
       "2000-01-04  1406.37  1407.52  1361.21     2.912  1368.69    1366.58       0   \n",
       "2000-01-05  1409.68  1433.78  1398.32     0.131  1407.83    1407.83       0   \n",
       "2000-01-06  1463.94  1463.95  1400.25     3.849  1406.04    1409.68       0   \n",
       "2000-01-07  1516.60  1522.82  1477.15     3.597  1477.15    1463.94       0   \n",
       "2000-01-10  1545.11  1546.72  1506.40     1.880  1531.71    1516.60       0   \n",
       "\n",
       "                date  date_week  key    atr21    atr14  \n",
       "2000-01-04  20000104          1    0  46.3100  46.3100  \n",
       "2000-01-05  20000105          2    1  57.2524  57.5011  \n",
       "2000-01-06  20000106          3    2  59.6094  59.8691  \n",
       "2000-01-07  20000107          4    3  74.9615  76.1662  \n",
       "2000-01-10  20000110          0    4  76.8365  77.8917  "
      ]
     },
     "execution_count": 4,
     "metadata": {},
     "output_type": "execute_result"
    }
   ],
   "source": [
    "btc.head()"
   ]
  },
  {
   "cell_type": "code",
   "execution_count": 5,
   "metadata": {},
   "outputs": [
    {
     "data": {
      "text/html": [
       "<div>\n",
       "<style scoped>\n",
       "    .dataframe tbody tr th:only-of-type {\n",
       "        vertical-align: middle;\n",
       "    }\n",
       "\n",
       "    .dataframe tbody tr th {\n",
       "        vertical-align: top;\n",
       "    }\n",
       "\n",
       "    .dataframe thead th {\n",
       "        text-align: right;\n",
       "    }\n",
       "</style>\n",
       "<table border=\"1\" class=\"dataframe\">\n",
       "  <thead>\n",
       "    <tr style=\"text-align: right;\">\n",
       "      <th></th>\n",
       "      <th>close</th>\n",
       "      <th>high</th>\n",
       "      <th>low</th>\n",
       "      <th>p_change</th>\n",
       "      <th>open</th>\n",
       "      <th>pre_close</th>\n",
       "      <th>volume</th>\n",
       "      <th>date</th>\n",
       "      <th>date_week</th>\n",
       "      <th>key</th>\n",
       "      <th>atr21</th>\n",
       "      <th>atr14</th>\n",
       "    </tr>\n",
       "  </thead>\n",
       "  <tbody>\n",
       "    <tr>\n",
       "      <th>2018-10-08</th>\n",
       "      <td>2716.51</td>\n",
       "      <td>2771.94</td>\n",
       "      <td>2710.18</td>\n",
       "      <td>-3.716</td>\n",
       "      <td>2768.21</td>\n",
       "      <td>2821.35</td>\n",
       "      <td>14950138800</td>\n",
       "      <td>20181008</td>\n",
       "      <td>0</td>\n",
       "      <td>4540</td>\n",
       "      <td>51.7461</td>\n",
       "      <td>51.9297</td>\n",
       "    </tr>\n",
       "    <tr>\n",
       "      <th>2018-10-09</th>\n",
       "      <td>2721.01</td>\n",
       "      <td>2734.31</td>\n",
       "      <td>2711.20</td>\n",
       "      <td>0.166</td>\n",
       "      <td>2713.73</td>\n",
       "      <td>2716.51</td>\n",
       "      <td>11677189900</td>\n",
       "      <td>20181009</td>\n",
       "      <td>1</td>\n",
       "      <td>4541</td>\n",
       "      <td>57.0555</td>\n",
       "      <td>59.6924</td>\n",
       "    </tr>\n",
       "    <tr>\n",
       "      <th>2018-10-10</th>\n",
       "      <td>2725.84</td>\n",
       "      <td>2743.55</td>\n",
       "      <td>2703.06</td>\n",
       "      <td>0.178</td>\n",
       "      <td>2723.72</td>\n",
       "      <td>2721.01</td>\n",
       "      <td>11348573600</td>\n",
       "      <td>20181010</td>\n",
       "      <td>2</td>\n",
       "      <td>4542</td>\n",
       "      <td>55.5496</td>\n",
       "      <td>57.1321</td>\n",
       "    </tr>\n",
       "    <tr>\n",
       "      <th>2018-10-11</th>\n",
       "      <td>2583.46</td>\n",
       "      <td>2661.29</td>\n",
       "      <td>2560.32</td>\n",
       "      <td>-5.223</td>\n",
       "      <td>2643.07</td>\n",
       "      <td>2725.84</td>\n",
       "      <td>19715070200</td>\n",
       "      <td>20181011</td>\n",
       "      <td>3</td>\n",
       "      <td>4543</td>\n",
       "      <td>65.1078</td>\n",
       "      <td>70.9398</td>\n",
       "    </tr>\n",
       "    <tr>\n",
       "      <th>2018-10-12</th>\n",
       "      <td>2606.91</td>\n",
       "      <td>2615.92</td>\n",
       "      <td>2536.67</td>\n",
       "      <td>0.908</td>\n",
       "      <td>2574.04</td>\n",
       "      <td>2583.46</td>\n",
       "      <td>17008163200</td>\n",
       "      <td>20181012</td>\n",
       "      <td>4</td>\n",
       "      <td>4544</td>\n",
       "      <td>76.3862</td>\n",
       "      <td>86.7038</td>\n",
       "    </tr>\n",
       "  </tbody>\n",
       "</table>\n",
       "</div>"
      ],
      "text/plain": [
       "              close     high      low  p_change     open  pre_close  \\\n",
       "2018-10-08  2716.51  2771.94  2710.18    -3.716  2768.21    2821.35   \n",
       "2018-10-09  2721.01  2734.31  2711.20     0.166  2713.73    2716.51   \n",
       "2018-10-10  2725.84  2743.55  2703.06     0.178  2723.72    2721.01   \n",
       "2018-10-11  2583.46  2661.29  2560.32    -5.223  2643.07    2725.84   \n",
       "2018-10-12  2606.91  2615.92  2536.67     0.908  2574.04    2583.46   \n",
       "\n",
       "                 volume      date  date_week   key    atr21    atr14  \n",
       "2018-10-08  14950138800  20181008          0  4540  51.7461  51.9297  \n",
       "2018-10-09  11677189900  20181009          1  4541  57.0555  59.6924  \n",
       "2018-10-10  11348573600  20181010          2  4542  55.5496  57.1321  \n",
       "2018-10-11  19715070200  20181011          3  4543  65.1078  70.9398  \n",
       "2018-10-12  17008163200  20181012          4  4544  76.3862  86.7038  "
      ]
     },
     "execution_count": 5,
     "metadata": {},
     "output_type": "execute_result"
    }
   ],
   "source": [
    "btc.tail()"
   ]
  },
  {
   "cell_type": "code",
   "execution_count": 41,
   "metadata": {},
   "outputs": [
    {
     "data": {
      "text/plain": [
       "pandas.core.frame.DataFrame"
      ]
     },
     "execution_count": 41,
     "metadata": {},
     "output_type": "execute_result"
    }
   ],
   "source": [
    "type(btc)"
   ]
  },
  {
   "cell_type": "code",
   "execution_count": 42,
   "metadata": {},
   "outputs": [
    {
     "data": {
      "text/plain": [
       "<matplotlib.axes._subplots.AxesSubplot at 0x11c82d8d0>"
      ]
     },
     "execution_count": 42,
     "metadata": {},
     "output_type": "execute_result"
    },
    {
     "data": {
      "image/png": "[encoded data removed]",
      "text/plain": [
       "<Figure size 432x288 with 1 Axes>"
      ]
     },
     "metadata": {
      "needs_background": "light"
     },
     "output_type": "display_data"
    }
   ],
   "source": [
    "btc.close.plot()"
   ]
  },
  {
   "cell_type": "code",
   "execution_count": null,
   "metadata": {},
   "outputs": [],
   "source": []
  },
  {
   "cell_type": "code",
   "execution_count": null,
   "metadata": {},
   "outputs": [],
   "source": []
  },
  {
   "cell_type": "code",
   "execution_count": null,
   "metadata": {},
   "outputs": [],
   "source": []
  },
  {
   "cell_type": "code",
   "execution_count": null,
   "metadata": {},
   "outputs": [],
   "source": []
  },
  {
   "cell_type": "code",
   "execution_count": null,
   "metadata": {},
   "outputs": [],
   "source": []
  },
  {
   "cell_type": "code",
   "execution_count": null,
   "metadata": {},
   "outputs": [],
   "source": []
  }
 ],
 "metadata": {
  "kernelspec": {
   "display_name": "Python 3",
   "language": "python",
   "name": "python3"
  },
  "language_info": {
   "codemirror_mode": {
    "name": "ipython",
    "version": 3
   },
   "file_extension": ".py",
   "mimetype": "text/x-python",
   "name": "python",
   "nbconvert_exporter": "python",
   "pygments_lexer": "ipython3",
   "version": "3.6.5"
  }
 },
 "nbformat": 4,
 "nbformat_minor": 2
}
