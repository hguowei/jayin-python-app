{
 "cells": [
  {
   "cell_type": "code",
   "execution_count": null,
   "metadata": {},
   "outputs": [],
   "source": []
  },
  {
   "cell_type": "code",
   "execution_count": 1,
   "metadata": {},
   "outputs": [],
   "source": [
    "import warnings\n",
    "import itertools\n",
    "import pandas as pd\n",
    "import numpy as np\n",
    "import statsmodels.api as sm\n",
    "import matplotlib.pyplot as plt\n",
    "plt.style.use('fivethirtyeight')"
   ]
  },
  {
   "cell_type": "code",
   "execution_count": 15,
   "metadata": {},
   "outputs": [],
   "source": [
    "df = pd.read_csv(\"monthly-milk-production-pounds-p.csv\")"
   ]
  },
  {
   "cell_type": "code",
   "execution_count": 16,
   "metadata": {},
   "outputs": [
    {
     "data": {
      "text/plain": [
       "Index(['Month', 'value'], dtype='object')"
      ]
     },
     "execution_count": 16,
     "metadata": {},
     "output_type": "execute_result"
    }
   ],
   "source": [
    "df.columns"
   ]
  },
  {
   "cell_type": "code",
   "execution_count": 17,
   "metadata": {},
   "outputs": [
    {
     "name": "stdout",
     "output_type": "stream",
     "text": [
      "     Month  value\n",
      "0  1962-01    589\n",
      "1  1962-02    561\n",
      "2  1962-03    640\n",
      "3  1962-04    656\n",
      "4  1962-05    727 \n",
      "index type:\n",
      " <class 'pandas.core.indexes.range.RangeIndex'>\n"
     ]
    }
   ],
   "source": [
    "print(df.head(), '\\nindex type:\\n', type(df.index))\n",
    "df['Month'] = pd.to_datetime(df['Month'], format='%Y-%m')\n",
    "# 索引并resample为月\n",
    "indexed_df = df.set_index('Month')\n",
    "ts = indexed_df['value']\n",
    "\n"
   ]
  },
  {
   "cell_type": "code",
   "execution_count": 18,
   "metadata": {},
   "outputs": [],
   "source": [
    "ts = ts.resample('M').sum()"
   ]
  },
  {
   "cell_type": "code",
   "execution_count": 20,
   "metadata": {},
   "outputs": [
    {
     "data": {
      "text/plain": [
       "<matplotlib.axes._subplots.AxesSubplot at 0x11b281da0>"
      ]
     },
     "execution_count": 20,
     "metadata": {},
     "output_type": "execute_result"
    },
    {
     "data": {
      "image/png": "[encoded data removed]",
      "text/plain": [
       "<Figure size 432x288 with 1 Axes>"
      ]
     },
     "metadata": {
      "needs_background": "light"
     },
     "output_type": "display_data"
    }
   ],
   "source": [
    "ts.plot()"
   ]
  },
  {
   "cell_type": "code",
   "execution_count": 4,
   "metadata": {},
   "outputs": [
    {
     "name": "stdout",
     "output_type": "stream",
     "text": [
      "Examples of parameter combinations for Seasonal ARIMA...\n",
      "SARIMAX: (0, 0, 1) x (0, 0, 1, 12)\n",
      "SARIMAX: (0, 0, 1) x (0, 1, 0, 12)\n",
      "SARIMAX: (0, 1, 0) x (0, 1, 1, 12)\n",
      "SARIMAX: (0, 1, 0) x (1, 0, 0, 12)\n"
     ]
    }
   ],
   "source": [
    "# Define the p, d and q parameters to take any value between 0 and 2\n",
    "p = d = q = range(0, 2)\n",
    "\n",
    "# Generate all different combinations of p, q and q triplets\n",
    "pdq = list(itertools.product(p, d, q))\n",
    "\n",
    "# Generate all different combinations of seasonal p, q and q triplets\n",
    "seasonal_pdq = [(x[0], x[1], x[2], 12) for x in list(itertools.product(p, d, q))]\n",
    "\n",
    "print('Examples of parameter combinations for Seasonal ARIMA...')\n",
    "print('SARIMAX: {} x {}'.format(pdq[1], seasonal_pdq[1]))\n",
    "print('SARIMAX: {} x {}'.format(pdq[1], seasonal_pdq[2]))\n",
    "print('SARIMAX: {} x {}'.format(pdq[2], seasonal_pdq[3]))\n",
    "print('SARIMAX: {} x {}'.format(pdq[2], seasonal_pdq[4]))"
   ]
  },
  {
   "cell_type": "code",
   "execution_count": 21,
   "metadata": {},
   "outputs": [],
   "source": [
    "y = ts"
   ]
  },
  {
   "cell_type": "code",
   "execution_count": 22,
   "metadata": {},
   "outputs": [
    {
     "name": "stdout",
     "output_type": "stream",
     "text": [
      "ARIMA(0, 0, 0)x(0, 0, 0, 12)12 - AIC:2692.5389822312172\n",
      "ARIMA(0, 0, 0)x(0, 0, 1, 12)12 - AIC:2328.210196081579\n",
      "ARIMA(0, 0, 0)x(0, 1, 0, 12)12 - AIC:1443.9444260476184\n",
      "ARIMA(0, 0, 0)x(0, 1, 1, 12)12 - AIC:1305.3386049260569\n",
      "ARIMA(0, 0, 0)x(1, 0, 0, 12)12 - AIC:1340.0277737960891\n",
      "ARIMA(0, 0, 0)x(1, 0, 1, 12)12 - AIC:1334.413560850871\n",
      "ARIMA(0, 0, 0)x(1, 1, 0, 12)12 - AIC:1299.9128017700104\n",
      "ARIMA(0, 0, 0)x(1, 1, 1, 12)12 - AIC:1241.4893843261032\n",
      "ARIMA(0, 0, 1)x(0, 0, 0, 12)12 - AIC:2467.380878228925\n",
      "ARIMA(0, 0, 1)x(0, 0, 1, 12)12 - AIC:2120.253292205112\n",
      "ARIMA(0, 0, 1)x(0, 1, 0, 12)12 - AIC:1298.1255645574147\n",
      "ARIMA(0, 0, 1)x(0, 1, 1, 12)12 - AIC:1189.1245489150779\n",
      "ARIMA(0, 0, 1)x(1, 0, 0, 12)12 - AIC:1232.1197581937288\n",
      "ARIMA(0, 0, 1)x(1, 0, 1, 12)12 - AIC:1215.8037457863466\n",
      "ARIMA(0, 0, 1)x(1, 1, 0, 12)12 - AIC:1204.6588818319874\n",
      "ARIMA(0, 0, 1)x(1, 1, 1, 12)12 - AIC:1135.6410375390396\n",
      "ARIMA(0, 1, 0)x(0, 0, 0, 12)12 - AIC:1739.8839094674686\n",
      "ARIMA(0, 1, 0)x(0, 0, 1, 12)12 - AIC:1475.6535365320478\n",
      "ARIMA(0, 1, 0)x(0, 1, 0, 12)12 - AIC:1113.3016402465805\n",
      "ARIMA(0, 1, 0)x(0, 1, 1, 12)12 - AIC:980.3772540046689\n",
      "ARIMA(0, 1, 0)x(1, 0, 0, 12)12 - AIC:1121.703463540091\n",
      "ARIMA(0, 1, 0)x(1, 0, 1, 12)12 - AIC:1064.5730826486156\n",
      "ARIMA(0, 1, 0)x(1, 1, 0, 12)12 - AIC:1010.1627691024107\n",
      "ARIMA(0, 1, 0)x(1, 1, 1, 12)12 - AIC:983.6057147894553\n",
      "ARIMA(0, 1, 1)x(0, 0, 0, 12)12 - AIC:1729.2745593865848\n",
      "ARIMA(0, 1, 1)x(0, 0, 1, 12)12 - AIC:1459.6368740811129\n",
      "ARIMA(0, 1, 1)x(0, 1, 0, 12)12 - AIC:1101.5458031051446\n",
      "ARIMA(0, 1, 1)x(0, 1, 1, 12)12 - AIC:965.6194210436222\n",
      "ARIMA(0, 1, 1)x(1, 0, 0, 12)12 - AIC:1116.5764196712166\n",
      "ARIMA(0, 1, 1)x(1, 0, 1, 12)12 - AIC:1054.1628591300664\n",
      "ARIMA(0, 1, 1)x(1, 1, 0, 12)12 - AIC:1001.0530217668252\n",
      "ARIMA(0, 1, 1)x(1, 1, 1, 12)12 - AIC:968.0689536699166\n",
      "ARIMA(1, 0, 0)x(0, 0, 0, 12)12 - AIC:1751.731660166091\n",
      "ARIMA(1, 0, 0)x(0, 0, 1, 12)12 - AIC:1487.5499743379808\n",
      "ARIMA(1, 0, 0)x(0, 1, 0, 12)12 - AIC:1117.671573927282\n",
      "ARIMA(1, 0, 0)x(0, 1, 1, 12)12 - AIC:994.5405647148361\n",
      "ARIMA(1, 0, 0)x(1, 0, 0, 12)12 - AIC:1116.9378809658015\n",
      "ARIMA(1, 0, 0)x(1, 0, 1, 12)12 - AIC:1121.3253849918465\n",
      "ARIMA(1, 0, 0)x(1, 1, 0, 12)12 - AIC:1010.1288736973435\n",
      "ARIMA(1, 0, 0)x(1, 1, 1, 12)12 - AIC:997.3034285496778\n",
      "ARIMA(1, 0, 1)x(0, 0, 0, 12)12 - AIC:1743.7855251254769\n",
      "ARIMA(1, 0, 1)x(0, 0, 1, 12)12 - AIC:1476.4966024772518\n",
      "ARIMA(1, 0, 1)x(0, 1, 0, 12)12 - AIC:1107.8494196575061\n",
      "ARIMA(1, 0, 1)x(0, 1, 1, 12)12 - AIC:973.8197386906267\n",
      "ARIMA(1, 0, 1)x(1, 0, 0, 12)12 - AIC:1121.5273042942017\n",
      "ARIMA(1, 0, 1)x(1, 0, 1, 12)12 - AIC:1077.3086664025159\n",
      "ARIMA(1, 0, 1)x(1, 1, 0, 12)12 - AIC:1001.7126536675647\n",
      "ARIMA(1, 0, 1)x(1, 1, 1, 12)12 - AIC:976.3692293963838\n",
      "ARIMA(1, 1, 0)x(0, 0, 0, 12)12 - AIC:1741.7907919763338\n",
      "ARIMA(1, 1, 0)x(0, 0, 1, 12)12 - AIC:1477.46717323253\n",
      "ARIMA(1, 1, 0)x(0, 1, 0, 12)12 - AIC:1108.1769471695225\n",
      "ARIMA(1, 1, 0)x(0, 1, 1, 12)12 - AIC:972.2623440983307\n",
      "ARIMA(1, 1, 0)x(1, 0, 0, 12)12 - AIC:1109.6799549846753\n",
      "ARIMA(1, 1, 0)x(1, 0, 1, 12)12 - AIC:1061.0214187909316\n",
      "ARIMA(1, 1, 0)x(1, 1, 0, 12)12 - AIC:987.0177756735347\n",
      "ARIMA(1, 1, 0)x(1, 1, 1, 12)12 - AIC:974.2305741219668\n",
      "ARIMA(1, 1, 1)x(0, 0, 0, 12)12 - AIC:1730.7684670944927\n",
      "ARIMA(1, 1, 1)x(0, 0, 1, 12)12 - AIC:1458.5780782600632\n",
      "ARIMA(1, 1, 1)x(0, 1, 0, 12)12 - AIC:1103.3303990130817\n",
      "ARIMA(1, 1, 1)x(0, 1, 1, 12)12 - AIC:967.1343101891368\n",
      "ARIMA(1, 1, 1)x(1, 0, 0, 12)12 - AIC:1111.8416489655492\n",
      "ARIMA(1, 1, 1)x(1, 0, 1, 12)12 - AIC:1057.1500094466317\n",
      "ARIMA(1, 1, 1)x(1, 1, 0, 12)12 - AIC:988.9539117369848\n",
      "ARIMA(1, 1, 1)x(1, 1, 1, 12)12 - AIC:969.7768486424543\n"
     ]
    }
   ],
   "source": [
    "warnings.filterwarnings(\"ignore\") # specify to ignore warning messages\n",
    "\n",
    "for param in pdq:\n",
    "    for param_seasonal in seasonal_pdq:\n",
    "        try:\n",
    "            mod = sm.tsa.statespace.SARIMAX(y,\n",
    "                                            order=param,\n",
    "                                            seasonal_order=param_seasonal,\n",
    "                                            enforce_stationarity=False,\n",
    "                                            enforce_invertibility=False)\n",
    "\n",
    "            results = mod.fit()\n",
    "\n",
    "            print('ARIMA{}x{}12 - AIC:{}'.format(param, param_seasonal, results.aic))\n",
    "        except:\n",
    "            continue"
   ]
  },
  {
   "cell_type": "code",
   "execution_count": null,
   "metadata": {},
   "outputs": [],
   "source": []
  },
  {
   "cell_type": "code",
   "execution_count": null,
   "metadata": {},
   "outputs": [],
   "source": []
  },
  {
   "cell_type": "code",
   "execution_count": null,
   "metadata": {},
   "outputs": [],
   "source": []
  },
  {
   "cell_type": "code",
   "execution_count": null,
   "metadata": {},
   "outputs": [],
   "source": []
  },
  {
   "cell_type": "code",
   "execution_count": null,
   "metadata": {},
   "outputs": [],
   "source": []
  },
  {
   "cell_type": "code",
   "execution_count": null,
   "metadata": {},
   "outputs": [],
   "source": []
  },
  {
   "cell_type": "code",
   "execution_count": null,
   "metadata": {},
   "outputs": [],
   "source": []
  },
  {
   "cell_type": "code",
   "execution_count": null,
   "metadata": {},
   "outputs": [],
   "source": []
  },
  {
   "cell_type": "code",
   "execution_count": null,
   "metadata": {},
   "outputs": [],
   "source": []
  },
  {
   "cell_type": "code",
   "execution_count": null,
   "metadata": {},
   "outputs": [],
   "source": []
  }
 ],
 "metadata": {
  "kernelspec": {
   "display_name": "Python 3",
   "language": "python",
   "name": "python3"
  },
  "language_info": {
   "codemirror_mode": {
    "name": "ipython",
    "version": 3
   },
   "file_extension": ".py",
   "mimetype": "text/x-python",
   "name": "python",
   "nbconvert_exporter": "python",
   "pygments_lexer": "ipython3",
   "version": "3.6.5"
  }
 },
 "nbformat": 4,
 "nbformat_minor": 2
}
